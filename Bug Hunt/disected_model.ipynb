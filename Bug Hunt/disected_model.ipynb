{
 "cells": [
  {
   "cell_type": "code",
   "execution_count": 1,
   "metadata": {},
   "outputs": [],
   "source": [
    "#!pip install ../ --upgrade"
   ]
  },
  {
   "cell_type": "code",
   "execution_count": 54,
   "metadata": {},
   "outputs": [
    {
     "data": {
      "text/plain": [
       "1.0"
      ]
     },
     "execution_count": 54,
     "metadata": {},
     "output_type": "execute_result"
    }
   ],
   "source": [
    "import numpy as np\n",
    "from Pythogen import cells, model, signals\n",
    "from Pythogen.nx import extract_graph_info, attr_to_arr\n",
    "\n",
    "meanCellRadius, meanPDRadius = 25, 5e-3\n",
    "\n",
    "cell_params = cells.Cells(meanCellRadius, meanPDRadius, cellSizeGradientPC=0)\n",
    "\n",
    "defSignal = signals.Signal(300, 0, 'defenceSignal')\n",
    "\n",
    "\n",
    "def init_func(signal, G, names):\n",
    "    idx = np.random.randint(G.number_of_nodes())\n",
    "    G.nodes(data=True)[idx]['defenceSignal'] = 1\n",
    "\n",
    "\n",
    "defSignal.add_onAdd_function(init_func)\n",
    "\n",
    "mdl = model.Model('hexagon')\n",
    "mdl.add_cell_features(cell_params)\n",
    "mdl.add_signal(defSignal)\n",
    "\n",
    "\n",
    "df = mdl.to_pd()\n",
    "df.sort_values(by='defenceSignal', ascending=False).head()\n",
    "\n",
    "\n",
    "def transport(dx, C,A):\n",
    "    total_outs = np.zeros(C.shape)\n",
    "    total_ins = np.zeros(C.shape)\n",
    "    for c in range(len(C)):\n",
    "        conns = np.where(A[c] == 1)[0]\n",
    "        outs = dx[conns] # connections deff to us\n",
    "        out_deff = np.ones(conns.shape) * dx[c]\n",
    "        out_deff[out_deff > outs] = outs[outs < out_deff]\n",
    "        tout = out_deff*4*C[c]\n",
    "        total_ins[conns] += tout \n",
    "        total_outs[c] = np.sum(tout)\n",
    "    return C+total_ins-total_outs\n",
    "\n",
    "def f_out(dx, C):\n",
    "\n",
    "    #d is calculated per cell currently... \n",
    "\n",
    "    return dx*(4*C) # total loss!\n",
    "\n",
    "def f_in(dx, C, A):\n",
    "    n_c = np.zeros(C.shape)\n",
    "    for c in range(len(C)):\n",
    "        conns = np.where(A[c] == 1)\n",
    "        n_c[c] = np.sum(C[conns])\n",
    "    return n_c\n",
    "\n",
    "name = \"defenceSignal\"\n",
    "G = mdl.G\n",
    "dt=1\n",
    "D=100\n",
    "E, C = extract_graph_info(G, kind=name)\n",
    "nn = np.sum(E, axis=1) #num neighbours of each cell list\n",
    "dx = attr_to_arr(G, 'radius')\n",
    "dx = ((D*dt)/dx**2) / nn \n",
    "# let's assume ALWAYS even share for all neighbours of cell-wall\n",
    "\n",
    "eo = f_out(dx, C) # total leaving each cell\n",
    "pn_loss = eo / np.sum(E, axis=0) # loss divided equally\n",
    "ein = f_in(dx, pn_loss, E)\n",
    "np.sum(C)"
   ]
  },
  {
   "cell_type": "code",
   "execution_count": 55,
   "metadata": {},
   "outputs": [
    {
     "data": {
      "text/plain": [
       "1.0"
      ]
     },
     "execution_count": 55,
     "metadata": {},
     "output_type": "execute_result"
    }
   ],
   "source": [
    "name = \"defenceSignal\"\n",
    "G = mdl.G\n",
    "dt=1\n",
    "D=100\n",
    "E, C = extract_graph_info(G, kind=name)\n",
    "nn = np.sum(E, axis=1) #num neighbours of each cell list\n",
    "dx = attr_to_arr(G, 'radius')\n",
    "dx = ((D*dt)/dx**2) / nn \n",
    "# let's assume ALWAYS even share for all neighbours of cell-wall\n",
    "np.sum(transport(dx,C,E))"
   ]
  },
  {
   "cell_type": "code",
   "execution_count": 51,
   "metadata": {},
   "outputs": [],
   "source": [
    "A = E\n",
    "total_outs = np.zeros(C.shape)\n",
    "total_ins = np.zeros(C.shape)\n",
    "for c in range(len(C)):\n",
    "    conns = np.where(A[c] == 1)[0]\n",
    "    outs = dx[conns] # connections deff to us\n",
    "    out_deff = np.ones(conns.shape) * dx[c]\n",
    "    out_deff[out_deff > outs] = outs[outs < out_deff]\n",
    "    tout = out_deff*4*C[c]\n",
    "    total_ins[conns] += tout \n",
    "    total_outs[c] = np.sum(tout)\n",
    "    break"
   ]
  },
  {
   "cell_type": "code",
   "execution_count": 50,
   "metadata": {},
   "outputs": [
    {
     "data": {
      "text/plain": [
       "array([0.08, 0.08])"
      ]
     },
     "execution_count": 50,
     "metadata": {},
     "output_type": "execute_result"
    }
   ],
   "source": [
    "out_deff"
   ]
  },
  {
   "cell_type": "code",
   "execution_count": 6,
   "metadata": {},
   "outputs": [],
   "source": [
    "\n",
    "from Pythogen.nx import extract_graph_info, attr_to_arr\n",
    "name = \"defenceSignal\"\n",
    "G = mdl.G\n",
    "dx = attr_to_arr(G, 'radius')\n",
    "E, C = extract_graph_info(G, kind=name)\n",
    "dx2 = dx**2\n",
    "q_hat = np.zeros( (2, len(E), len(E)) )\n",
    "D = defSignal.Deff\n",
    "dt = 1\n",
    "q_hat[0] = (D* dt *E) # Potential per connection! \n",
    "q_hat[1] = (E.T * dt * D).T\n",
    "q_hat = np.min(q_hat, axis=0)\n",
    "diag_C = np.diag(C)\n",
    "epochs = 1\n",
    "for _ in range(epochs):\n",
    "    E_hat = (diag_C/dx2) * q_hat\n",
    "    diag_C = diag_C + (np.sum(E_hat, axis=1)-np.sum(E_hat, axis=0))"
   ]
  },
  {
   "cell_type": "markdown",
   "metadata": {},
   "source": [
    "# Does 1D Pythogen Model match 1D Eq"
   ]
  },
  {
   "cell_type": "code",
   "execution_count": 51,
   "metadata": {},
   "outputs": [
    {
     "data": {
      "text/html": [
       "<div>\n",
       "<style scoped>\n",
       "    .dataframe tbody tr th:only-of-type {\n",
       "        vertical-align: middle;\n",
       "    }\n",
       "\n",
       "    .dataframe tbody tr th {\n",
       "        vertical-align: top;\n",
       "    }\n",
       "\n",
       "    .dataframe thead th {\n",
       "        text-align: right;\n",
       "    }\n",
       "</style>\n",
       "<table border=\"1\" class=\"dataframe\">\n",
       "  <thead>\n",
       "    <tr style=\"text-align: right;\">\n",
       "      <th></th>\n",
       "      <th>x</th>\n",
       "      <th>y</th>\n",
       "      <th>neighbours</th>\n",
       "      <th>num_neighbours</th>\n",
       "      <th>distCentre</th>\n",
       "      <th>radius</th>\n",
       "      <th>radius_ep_original</th>\n",
       "      <th>radius_ep</th>\n",
       "      <th>num_pd</th>\n",
       "      <th>defenceSignal</th>\n",
       "      <th>Deff</th>\n",
       "      <th>shape</th>\n",
       "    </tr>\n",
       "  </thead>\n",
       "  <tbody>\n",
       "    <tr>\n",
       "      <th>55</th>\n",
       "      <td>0</td>\n",
       "      <td>55</td>\n",
       "      <td>[54, 56]</td>\n",
       "      <td>2</td>\n",
       "      <td>0</td>\n",
       "      <td>10.0</td>\n",
       "      <td>0.005</td>\n",
       "      <td>0.005</td>\n",
       "      <td>1000.0</td>\n",
       "      <td>0.075686</td>\n",
       "      <td>23.334862</td>\n",
       "      <td>rectangle</td>\n",
       "    </tr>\n",
       "    <tr>\n",
       "      <th>54</th>\n",
       "      <td>0</td>\n",
       "      <td>54</td>\n",
       "      <td>[53, 55]</td>\n",
       "      <td>2</td>\n",
       "      <td>1</td>\n",
       "      <td>10.0</td>\n",
       "      <td>0.005</td>\n",
       "      <td>0.005</td>\n",
       "      <td>1000.0</td>\n",
       "      <td>0.074325</td>\n",
       "      <td>23.334862</td>\n",
       "      <td>rectangle</td>\n",
       "    </tr>\n",
       "    <tr>\n",
       "      <th>56</th>\n",
       "      <td>0</td>\n",
       "      <td>56</td>\n",
       "      <td>[55, 57]</td>\n",
       "      <td>2</td>\n",
       "      <td>1</td>\n",
       "      <td>10.0</td>\n",
       "      <td>0.005</td>\n",
       "      <td>0.005</td>\n",
       "      <td>1000.0</td>\n",
       "      <td>0.074325</td>\n",
       "      <td>23.334862</td>\n",
       "      <td>rectangle</td>\n",
       "    </tr>\n",
       "    <tr>\n",
       "      <th>57</th>\n",
       "      <td>0</td>\n",
       "      <td>57</td>\n",
       "      <td>[56, 58]</td>\n",
       "      <td>2</td>\n",
       "      <td>2</td>\n",
       "      <td>10.0</td>\n",
       "      <td>0.005</td>\n",
       "      <td>0.005</td>\n",
       "      <td>1000.0</td>\n",
       "      <td>0.07039</td>\n",
       "      <td>23.334862</td>\n",
       "      <td>rectangle</td>\n",
       "    </tr>\n",
       "    <tr>\n",
       "      <th>53</th>\n",
       "      <td>0</td>\n",
       "      <td>53</td>\n",
       "      <td>[52, 54]</td>\n",
       "      <td>2</td>\n",
       "      <td>2</td>\n",
       "      <td>10.0</td>\n",
       "      <td>0.005</td>\n",
       "      <td>0.005</td>\n",
       "      <td>1000.0</td>\n",
       "      <td>0.07039</td>\n",
       "      <td>23.334862</td>\n",
       "      <td>rectangle</td>\n",
       "    </tr>\n",
       "  </tbody>\n",
       "</table>\n",
       "</div>"
      ],
      "text/plain": [
       "    x   y neighbours num_neighbours distCentre radius radius_ep_original  \\\n",
       "55  0  55   [54, 56]              2          0   10.0              0.005   \n",
       "54  0  54   [53, 55]              2          1   10.0              0.005   \n",
       "56  0  56   [55, 57]              2          1   10.0              0.005   \n",
       "57  0  57   [56, 58]              2          2   10.0              0.005   \n",
       "53  0  53   [52, 54]              2          2   10.0              0.005   \n",
       "\n",
       "   radius_ep  num_pd defenceSignal       Deff      shape  \n",
       "55     0.005  1000.0      0.075686  23.334862  rectangle  \n",
       "54     0.005  1000.0      0.074325  23.334862  rectangle  \n",
       "56     0.005  1000.0      0.074325  23.334862  rectangle  \n",
       "57     0.005  1000.0       0.07039  23.334862  rectangle  \n",
       "53     0.005  1000.0       0.07039  23.334862  rectangle  "
      ]
     },
     "execution_count": 51,
     "metadata": {},
     "output_type": "execute_result"
    }
   ],
   "source": [
    "import numpy as np\n",
    "from Pythogen import cells, model, signals\n",
    "\n",
    "meanCellRadius, meanPDRadius = 10, 5e-3\n",
    "\n",
    "cell_params = cells.Cells(meanCellRadius, meanPDRadius)\n",
    "\n",
    "defSignal = signals.Signal(300, 0, 'defenceSignal')\n",
    "\n",
    "\n",
    "def init_func(signal, G, names):\n",
    "    idx = 55\n",
    "    G.nodes(data=True)[idx]['defenceSignal'] = 1\n",
    "\n",
    "\n",
    "defSignal.add_onAdd_function(init_func)\n",
    "\n",
    "mdl = model.Model(\"rectangle\", NCellsY=1, NCellsX = 110 )\n",
    "mdl.add_cell_features(cell_params)\n",
    "mdl.add_signal(defSignal)\n",
    "\n",
    "mdl.run(60, dt=1/10)\n",
    "\n",
    "df = mdl.to_pd()\n",
    "df.sort_values(by='defenceSignal', ascending=False).head()\n"
   ]
  },
  {
   "cell_type": "markdown",
   "metadata": {},
   "source": [
    "## Just remember to divide C of Pythogen by dimension of cell (L in 1D, A in 2D)"
   ]
  },
  {
   "cell_type": "code",
   "execution_count": 52,
   "metadata": {},
   "outputs": [
    {
     "data": {
      "text/plain": [
       "<matplotlib.legend.Legend at 0x123365960>"
      ]
     },
     "execution_count": 52,
     "metadata": {},
     "output_type": "execute_result"
    },
    {
     "data": {
      "image/png": "[encoded data removed]",
      "text/plain": [
       "<Figure size 500x500 with 1 Axes>"
      ]
     },
     "metadata": {
      "needs_background": "light"
     },
     "output_type": "display_data"
    }
   ],
   "source": [
    "import matplotlib.pyplot as plt \n",
    "\n",
    "D = np.mean(df['Deff'])\n",
    "\n",
    "x = np.linspace(-55*meanCellRadius/2, 55*meanCellRadius/2, 1000)\n",
    "\n",
    "def diffeq(x,t,D):\n",
    "    return (1/(np.sqrt(4*np.pi*D*t)))*np.exp(-((x**2)/(4*D*t) ))\n",
    "\n",
    "fig, ax = plt.subplots(1, figsize=(5,5), dpi=100)\n",
    "ax.plot(x, diffeq(x,60,D), label=\"Diffusion EQ\")\n",
    "#tdf = df[df[\"y\"]>50 & df[\"y\"] < 60]\n",
    "ax.scatter((df['y']*meanCellRadius)-meanCellRadius*55, df['defenceSignal']/meanCellRadius, label=\"Pythogen\")\n",
    "ax.set_xlim(-200,200)\n",
    "ax.legend()\n",
    "\n",
    "\n"
   ]
  }
 ],
 "metadata": {
  "interpreter": {
   "hash": "922f0a21fe34289643d953d4812dee92a78b25f4d6dab0875cb28bd54e5d741c"
  },
  "kernelspec": {
   "display_name": "Python 3.10.2 ('playground')",
   "language": "python",
   "name": "python3"
  },
  "language_info": {
   "codemirror_mode": {
    "name": "ipython",
    "version": 3
   },
   "file_extension": ".py",
   "mimetype": "text/x-python",
   "name": "python",
   "nbconvert_exporter": "python",
   "pygments_lexer": "ipython3",
   "version": "3.10.2"
  },
  "orig_nbformat": 4
 },
 "nbformat": 4,
 "nbformat_minor": 2
}
