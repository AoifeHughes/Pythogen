{
 "cells": [
  {
   "cell_type": "code",
   "execution_count": 4,
   "id": "be8ddfed",
   "metadata": {},
   "outputs": [
    {
     "data": {
      "application/vnd.jupyter.widget-view+json": {
       "model_id": "cc08f54b1bcd40b3b8b888fe4dbe5809",
       "version_major": 2,
       "version_minor": 0
      },
      "text/plain": [
       "Button(description='Run!', style=ButtonStyle())"
      ]
     },
     "metadata": {},
     "output_type": "display_data"
    }
   ],
   "source": [
    "from IPython.display import display\n",
    "from ipywidgets import widgets, interactive\n",
    "button = widgets.Button(description=\"Run!\")\n",
    "def on_button_clicked(b):\n",
    "    print('Clicked')\n",
    "display(button)\n",
    "button.on_click(on_button_clicked)\n"
   ]
  }
 ],
 "metadata": {
  "kernelspec": {
   "display_name": "Python 3 (ipykernel)",
   "language": "python",
   "name": "python3"
  },
  "language_info": {
   "codemirror_mode": {
    "name": "ipython",
    "version": 3
   },
   "file_extension": ".py",
   "mimetype": "text/x-python",
   "name": "python",
   "nbconvert_exporter": "python",
   "pygments_lexer": "ipython3",
   "version": "3.10.0"
  }
 },
 "nbformat": 4,
 "nbformat_minor": 5
}
