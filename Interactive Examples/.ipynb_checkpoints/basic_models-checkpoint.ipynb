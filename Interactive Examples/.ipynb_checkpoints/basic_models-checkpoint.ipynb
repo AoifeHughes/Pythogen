{
 "cells": [
  {
   "cell_type": "markdown",
   "metadata": {},
   "source": [
    "# Imports and required functions"
   ]
  },
  {
   "cell_type": "code",
   "execution_count": 14,
   "metadata": {},
   "outputs": [],
   "source": [
    "from ipywidgets import widgets, interactive\n",
    "from IPython.display import display, clear_output\n",
    "from Pythogen import cells, model, signals, draw\n",
    "import numpy as np \n",
    "\n",
    "def init_func(signal, G, names):\n",
    "    idx = np.random.randint(G.number_of_nodes())\n",
    "    G.nodes(data=True)[idx]['defenceSignal'] = 1"
   ]
  },
  {
   "cell_type": "markdown",
   "metadata": {},
   "source": [
    "# Set some parameters:"
   ]
  },
  {
   "cell_type": "code",
   "execution_count": 2,
   "metadata": {},
   "outputs": [
    {
     "data": {
      "application/vnd.jupyter.widget-view+json": {
       "model_id": "457a1c2eaf354eb79fe1b81a38164a46",
       "version_major": 2,
       "version_minor": 0
      },
      "text/plain": [
       "FloatSlider(value=10.0, continuous_update=False, description='Cell R (um):', max=20.0, min=5.0, readout_format…"
      ]
     },
     "metadata": {},
     "output_type": "display_data"
    },
    {
     "data": {
      "application/vnd.jupyter.widget-view+json": {
       "model_id": "ea4946f048c943f195d220b39391d4b0",
       "version_major": 2,
       "version_minor": 0
      },
      "text/plain": [
       "FloatSlider(value=10.0, continuous_update=False, description='PD R (nm):', max=20.0, min=1.0, readout_format='…"
      ]
     },
     "metadata": {},
     "output_type": "display_data"
    },
    {
     "data": {
      "application/vnd.jupyter.widget-view+json": {
       "model_id": "a0aa79aeb1924ab28a27bf4a4a615b25",
       "version_major": 2,
       "version_minor": 0
      },
      "text/plain": [
       "IntSlider(value=500, continuous_update=False, description='N PD:', max=1000, min=1)"
      ]
     },
     "metadata": {},
     "output_type": "display_data"
    },
    {
     "data": {
      "application/vnd.jupyter.widget-view+json": {
       "model_id": "12aa1ef251264000bd6439dae91581b4",
       "version_major": 2,
       "version_minor": 0
      },
      "text/plain": [
       "IntSlider(value=10, continuous_update=False, description='D (um^2/s):', min=1)"
      ]
     },
     "metadata": {},
     "output_type": "display_data"
    },
    {
     "data": {
      "application/vnd.jupyter.widget-view+json": {
       "model_id": "2ce76d51310442f7a6121ed74b02d750",
       "version_major": 2,
       "version_minor": 0
      },
      "text/plain": [
       "IntSlider(value=10, continuous_update=False, description='N Nodes X:', max=20, min=1)"
      ]
     },
     "metadata": {},
     "output_type": "display_data"
    },
    {
     "data": {
      "application/vnd.jupyter.widget-view+json": {
       "model_id": "42ff18317fa24fc8969fc3c35038208f",
       "version_major": 2,
       "version_minor": 0
      },
      "text/plain": [
       "IntSlider(value=10, continuous_update=False, description='N Nodes Y:', max=20, min=1)"
      ]
     },
     "metadata": {},
     "output_type": "display_data"
    }
   ],
   "source": [
    "PDR = widgets.FloatSlider(\n",
    "    value=10,\n",
    "    min=1,\n",
    "    max=20.0,\n",
    "    step=0.1,\n",
    "    description='PD R (nm):',\n",
    "    disabled=False,\n",
    "    continuous_update=False,\n",
    "    orientation='horizontal',\n",
    "    readout=True,\n",
    "    readout_format='.1f',\n",
    ")\n",
    "\n",
    "CellR = widgets.FloatSlider(\n",
    "    value=10,\n",
    "    min=5,\n",
    "    max=20.0,\n",
    "    step=0.1,\n",
    "    description='Cell R (um):',\n",
    "    disabled=False,\n",
    "    continuous_update=False,\n",
    "    orientation='horizontal',\n",
    "    readout=True,\n",
    "    readout_format='.1f',\n",
    ")\n",
    "\n",
    "\n",
    "PDN = widgets.IntSlider(\n",
    "    value=500,\n",
    "    min=1,\n",
    "    max=1000,\n",
    "    step=1,\n",
    "    description='N PD:',\n",
    "    disabled=False,\n",
    "    continuous_update=False,\n",
    "    orientation='horizontal',\n",
    "    readout=True,\n",
    ")\n",
    "\n",
    "NX = widgets.IntSlider(\n",
    "    value=10,\n",
    "    min=1,\n",
    "    max=20,\n",
    "    step=1,\n",
    "    description='N Nodes X:',\n",
    "    disabled=False,\n",
    "    continuous_update=False,\n",
    "    orientation='horizontal',\n",
    "    readout=True,\n",
    ")\n",
    "\n",
    "\n",
    "NY = widgets.IntSlider(\n",
    "    value=10,\n",
    "    min=1,\n",
    "    max=20,\n",
    "    step=1,\n",
    "    description='N Nodes Y:',\n",
    "    disabled=False,\n",
    "    continuous_update=False,\n",
    "    orientation='horizontal',\n",
    "    readout=True,\n",
    ")\n",
    "DC = widgets.IntSlider(\n",
    "    value=10,\n",
    "    min=1,\n",
    "    max=100,\n",
    "    step=1,\n",
    "    description='D (um^2/s):',\n",
    "    disabled=False,\n",
    "    continuous_update=False,\n",
    "    orientation='horizontal',\n",
    "    readout=True,\n",
    ")\n",
    "\n",
    "RT = widgets.IntSlider(\n",
    "    value=10,\n",
    "    min=1,\n",
    "    max=100,\n",
    "    step=1,\n",
    "    description='Run Time (s):',\n",
    "    disabled=False,\n",
    "    continuous_update=False,\n",
    "    orientation='horizontal',\n",
    "    readout=True,\n",
    ")\n",
    "\n",
    "button = widgets.Button(description=\"Run!\")\n",
    "\n",
    "display(CellR)\n",
    "display(PDR)\n",
    "display(PDN)\n",
    "display(DC)\n",
    "display(NX)\n",
    "display(NY)\n"
   ]
  },
  {
   "cell_type": "code",
   "execution_count": 15,
   "metadata": {},
   "outputs": [
    {
     "data": {
      "application/vnd.jupyter.widget-view+json": {
       "model_id": "5c208733f75f419bbbb04ec3efa74f61",
       "version_major": 2,
       "version_minor": 0
      },
      "text/plain": [
       "IntSlider(value=10, continuous_update=False, description='Run Time (s):', min=1)"
      ]
     },
     "metadata": {},
     "output_type": "display_data"
    },
    {
     "data": {
      "application/vnd.jupyter.widget-view+json": {
       "model_id": "a59d68c0ea0044c28f03498a4cb5ab7b",
       "version_major": 2,
       "version_minor": 0
      },
      "text/plain": [
       "Button(description='Run!', style=ButtonStyle())"
      ]
     },
     "metadata": {},
     "output_type": "display_data"
    },
    {
     "data": {
      "text/html": [
       "<div>\n",
       "<style scoped>\n",
       "    .dataframe tbody tr th:only-of-type {\n",
       "        vertical-align: middle;\n",
       "    }\n",
       "\n",
       "    .dataframe tbody tr th {\n",
       "        vertical-align: top;\n",
       "    }\n",
       "\n",
       "    .dataframe thead th {\n",
       "        text-align: right;\n",
       "    }\n",
       "</style>\n",
       "<table border=\"1\" class=\"dataframe\">\n",
       "  <thead>\n",
       "    <tr style=\"text-align: right;\">\n",
       "      <th></th>\n",
       "      <th>x</th>\n",
       "      <th>y</th>\n",
       "      <th>neighbours</th>\n",
       "      <th>num_neighbours</th>\n",
       "      <th>distCentre</th>\n",
       "      <th>radius</th>\n",
       "      <th>radius_ep_original</th>\n",
       "      <th>radius_ep</th>\n",
       "      <th>num_pd</th>\n",
       "      <th>defenceSignal</th>\n",
       "      <th>Deff</th>\n",
       "      <th>shape</th>\n",
       "    </tr>\n",
       "  </thead>\n",
       "  <tbody>\n",
       "    <tr>\n",
       "      <th>0</th>\n",
       "      <td>0</td>\n",
       "      <td>0</td>\n",
       "      <td>[10, 1]</td>\n",
       "      <td>2</td>\n",
       "      <td>10</td>\n",
       "      <td>10.0</td>\n",
       "      <td>0.01</td>\n",
       "      <td>0.01</td>\n",
       "      <td>1000.0</td>\n",
       "      <td>0.020212</td>\n",
       "      <td>1.521702</td>\n",
       "      <td>rectangle</td>\n",
       "    </tr>\n",
       "    <tr>\n",
       "      <th>63</th>\n",
       "      <td>6</td>\n",
       "      <td>3</td>\n",
       "      <td>[53, 62, 73, 64]</td>\n",
       "      <td>4</td>\n",
       "      <td>3</td>\n",
       "      <td>10.0</td>\n",
       "      <td>0.01</td>\n",
       "      <td>0.01</td>\n",
       "      <td>1000.0</td>\n",
       "      <td>0.001144</td>\n",
       "      <td>1.521702</td>\n",
       "      <td>rectangle</td>\n",
       "    </tr>\n",
       "    <tr>\n",
       "      <th>73</th>\n",
       "      <td>7</td>\n",
       "      <td>3</td>\n",
       "      <td>[63, 72, 83, 74]</td>\n",
       "      <td>4</td>\n",
       "      <td>4</td>\n",
       "      <td>10.0</td>\n",
       "      <td>0.01</td>\n",
       "      <td>0.01</td>\n",
       "      <td>1000.0</td>\n",
       "      <td>0.00027</td>\n",
       "      <td>1.521702</td>\n",
       "      <td>rectangle</td>\n",
       "    </tr>\n",
       "    <tr>\n",
       "      <th>72</th>\n",
       "      <td>7</td>\n",
       "      <td>2</td>\n",
       "      <td>[62, 71, 82, 73]</td>\n",
       "      <td>4</td>\n",
       "      <td>5</td>\n",
       "      <td>10.0</td>\n",
       "      <td>0.01</td>\n",
       "      <td>0.01</td>\n",
       "      <td>1000.0</td>\n",
       "      <td>0.000219</td>\n",
       "      <td>1.521702</td>\n",
       "      <td>rectangle</td>\n",
       "    </tr>\n",
       "    <tr>\n",
       "      <th>71</th>\n",
       "      <td>7</td>\n",
       "      <td>1</td>\n",
       "      <td>[61, 70, 81, 72]</td>\n",
       "      <td>4</td>\n",
       "      <td>6</td>\n",
       "      <td>10.0</td>\n",
       "      <td>0.01</td>\n",
       "      <td>0.01</td>\n",
       "      <td>1000.0</td>\n",
       "      <td>0.000127</td>\n",
       "      <td>1.521702</td>\n",
       "      <td>rectangle</td>\n",
       "    </tr>\n",
       "  </tbody>\n",
       "</table>\n",
       "</div>"
      ],
      "text/plain": [
       "    x  y        neighbours num_neighbours distCentre radius  \\\n",
       "0   0  0           [10, 1]              2         10   10.0   \n",
       "63  6  3  [53, 62, 73, 64]              4          3   10.0   \n",
       "73  7  3  [63, 72, 83, 74]              4          4   10.0   \n",
       "72  7  2  [62, 71, 82, 73]              4          5   10.0   \n",
       "71  7  1  [61, 70, 81, 72]              4          6   10.0   \n",
       "\n",
       "   radius_ep_original radius_ep  num_pd defenceSignal      Deff      shape  \n",
       "0                0.01      0.01  1000.0      0.020212  1.521702  rectangle  \n",
       "63               0.01      0.01  1000.0      0.001144  1.521702  rectangle  \n",
       "73               0.01      0.01  1000.0       0.00027  1.521702  rectangle  \n",
       "72               0.01      0.01  1000.0      0.000219  1.521702  rectangle  \n",
       "71               0.01      0.01  1000.0      0.000127  1.521702  rectangle  "
      ]
     },
     "metadata": {},
     "output_type": "display_data"
    },
    {
     "data": {
      "image/png": "[encoded data removed]",
      "text/plain": [
       "<Figure size 432x288 with 1 Axes>"
      ]
     },
     "metadata": {},
     "output_type": "display_data"
    }
   ],
   "source": [
    "def on_button_clicked(b):\n",
    "    clear_output()\n",
    "    display(RT)\n",
    "    display(button)\n",
    "    cell_params = cells.Cells(CellR.get_interact_value(), PDR.get_interact_value()/1000)\n",
    "    defSignal = signals.Signal(DC.get_interact_value(), 0, 'defenceSignal')\n",
    "    defSignal.add_onAdd_function(init_func)\n",
    "    mdl = model.Model('rectangle', NCellsX=NX.get_interact_value(), NCellsY=NY.get_interact_value())\n",
    "    mdl.add_cell_features(cell_params)\n",
    "    mdl.add_signal(defSignal)\n",
    "    mdl.run(100)\n",
    "    df = mdl.to_pd()\n",
    "    draw.plot_network(mdl, 'defenceSignal')\n",
    "    display(df.sort_values(by='radius', ascending=False).head())\n",
    "    \n",
    "display(RT)\n",
    "display(button)\n",
    "button.on_click(on_button_clicked)"
   ]
  }
 ],
 "metadata": {
  "interpreter": {
   "hash": "2b9b17cbaf37b8c7ddcc6b49874f51d3a8457a639acde5f43c5d3c0c650b4647"
  },
  "kernelspec": {
   "display_name": "Python 3 (ipykernel)",
   "language": "python",
   "name": "python3"
  },
  "language_info": {
   "codemirror_mode": {
    "name": "ipython",
    "version": 3
   },
   "file_extension": ".py",
   "mimetype": "text/x-python",
   "name": "python",
   "nbconvert_exporter": "python",
   "pygments_lexer": "ipython3",
   "version": "3.10.0"
  }
 },
 "nbformat": 4,
 "nbformat_minor": 2
}
