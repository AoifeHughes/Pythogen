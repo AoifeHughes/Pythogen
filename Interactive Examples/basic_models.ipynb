{
 "cells": [
  {
   "cell_type": "markdown",
   "metadata": {},
   "source": [
    "# Imports and required functions"
   ]
  },
  {
   "cell_type": "code",
   "execution_count": 1,
   "metadata": {},
   "outputs": [],
   "source": [
    "from ipywidgets import widgets, interactive\n",
    "from IPython.display import display, clear_output\n",
    "from Pythogen import cells, model, signals, draw\n",
    "import numpy as np \n",
    "\n",
    "def init_func(signal, G, names):\n",
    "    idx = np.random.randint(G.number_of_nodes())\n",
    "    G.nodes(data=True)[idx]['defenceSignal'] = 1"
   ]
  },
  {
   "cell_type": "markdown",
   "metadata": {},
   "source": [
    "# Set some parameters:"
   ]
  },
  {
   "cell_type": "code",
   "execution_count": 2,
   "metadata": {},
   "outputs": [
    {
     "data": {
      "application/vnd.jupyter.widget-view+json": {
       "model_id": "ea4627081fe3465ca251cc253f0ed7a3",
       "version_major": 2,
       "version_minor": 0
      },
      "text/plain": [
       "FloatSlider(value=10.0, description='Cell R (um):', max=20.0, min=5.0, readout_format='.1f')"
      ]
     },
     "metadata": {},
     "output_type": "display_data"
    },
    {
     "data": {
      "application/vnd.jupyter.widget-view+json": {
       "model_id": "426ebcd3edd645aca76b3e17b7e76b4b",
       "version_major": 2,
       "version_minor": 0
      },
      "text/plain": [
       "FloatSlider(value=10.0, description='PD R (nm):', max=20.0, min=1.0, readout_format='.1f')"
      ]
     },
     "metadata": {},
     "output_type": "display_data"
    },
    {
     "data": {
      "application/vnd.jupyter.widget-view+json": {
       "model_id": "466136fbdd5e400490af7a074b923eb0",
       "version_major": 2,
       "version_minor": 0
      },
      "text/plain": [
       "IntSlider(value=500, description='N PD:', max=1000, min=1)"
      ]
     },
     "metadata": {},
     "output_type": "display_data"
    },
    {
     "data": {
      "application/vnd.jupyter.widget-view+json": {
       "model_id": "dc50b34c14bd43e2828f3419bba20428",
       "version_major": 2,
       "version_minor": 0
      },
      "text/plain": [
       "IntSlider(value=10, description='D (um^2/s):', min=1)"
      ]
     },
     "metadata": {},
     "output_type": "display_data"
    },
    {
     "data": {
      "application/vnd.jupyter.widget-view+json": {
       "model_id": "06a562c526454e4f8a56a1be9453c820",
       "version_major": 2,
       "version_minor": 0
      },
      "text/plain": [
       "IntSlider(value=10, description='N Nodes X:', max=20, min=1)"
      ]
     },
     "metadata": {},
     "output_type": "display_data"
    },
    {
     "data": {
      "application/vnd.jupyter.widget-view+json": {
       "model_id": "f8789219515a4814a0b26e0f67750f36",
       "version_major": 2,
       "version_minor": 0
      },
      "text/plain": [
       "IntSlider(value=10, description='N Nodes Y:', max=20, min=1)"
      ]
     },
     "metadata": {},
     "output_type": "display_data"
    }
   ],
   "source": [
    "PDR = widgets.FloatSlider(\n",
    "    value=10,\n",
    "    min=1,\n",
    "    max=20.0,\n",
    "    step=0.1,\n",
    "    description='PD R (nm):',\n",
    "    readout=True,\n",
    "    readout_format='.1f',\n",
    ")\n",
    "\n",
    "CellR = widgets.FloatSlider(\n",
    "    value=10,\n",
    "    min=5,\n",
    "    max=20.0,\n",
    "    step=0.1,\n",
    "    description='Cell R (um):',\n",
    "    readout=True,\n",
    "    readout_format='.1f',\n",
    ")\n",
    "\n",
    "\n",
    "PDN = widgets.IntSlider(\n",
    "    value=500,\n",
    "    min=1,\n",
    "    max=1000,\n",
    "    step=1,\n",
    "    description='N PD:',\n",
    "    readout=True,\n",
    ")\n",
    "\n",
    "NX = widgets.IntSlider(\n",
    "    value=10,\n",
    "    min=1,\n",
    "    max=20,\n",
    "    step=1,\n",
    "    description='N Nodes X:',\n",
    "    readout=True,\n",
    ")\n",
    "\n",
    "\n",
    "NY = widgets.IntSlider(\n",
    "    value=10,\n",
    "    min=1,\n",
    "    max=20,\n",
    "    step=1,\n",
    "    description='N Nodes Y:',\n",
    "    readout=True,\n",
    ")\n",
    "DC = widgets.IntSlider(\n",
    "    value=10,\n",
    "    min=1,\n",
    "    max=100,\n",
    "    step=1,\n",
    "    description='D (um^2/s):',\n",
    "    readout=True,\n",
    ")\n",
    "\n",
    "RT = widgets.IntSlider(\n",
    "    value=10,\n",
    "    min=1,\n",
    "    max=100,\n",
    "    step=1,\n",
    "    description='Run Time (s):',\n",
    "    readout=True,\n",
    ")\n",
    "button = widgets.Button(description=\"Run!\")\n",
    "display(CellR, PDR, PDN, DC, NX, NY)\n"
   ]
  },
  {
   "cell_type": "code",
   "execution_count": 3,
   "metadata": {},
   "outputs": [
    {
     "data": {
      "application/vnd.jupyter.widget-view+json": {
       "model_id": "3d940bf1ee0d4a4b834d33e699ae1077",
       "version_major": 2,
       "version_minor": 0
      },
      "text/plain": [
       "IntSlider(value=10, description='Run Time (s):', min=1)"
      ]
     },
     "metadata": {},
     "output_type": "display_data"
    },
    {
     "data": {
      "application/vnd.jupyter.widget-view+json": {
       "model_id": "b7983a881b8044a0a907f1ed43f2ab3d",
       "version_major": 2,
       "version_minor": 0
      },
      "text/plain": [
       "Button(description='Run!', style=ButtonStyle())"
      ]
     },
     "metadata": {},
     "output_type": "display_data"
    }
   ],
   "source": [
    "def on_button_clicked(b):\n",
    "    clear_output()\n",
    "    display(RT)\n",
    "    display(button)\n",
    "    cell_params = cells.Cells(CellR.get_interact_value(), PDR.get_interact_value()/1000)\n",
    "    defSignal = signals.Signal(DC.get_interact_value(), 0, 'defenceSignal')\n",
    "    defSignal.add_onAdd_function(init_func)\n",
    "    mdl = model.Model('rectangle', NCellsX=NX.get_interact_value(), NCellsY=NY.get_interact_value())\n",
    "    mdl.add_cell_features(cell_params)\n",
    "    mdl.add_signal(defSignal)\n",
    "    mdl.run(100)\n",
    "    df = mdl.to_pd()\n",
    "    draw.plot_network(mdl, 'defenceSignal')\n",
    "    display(df.sort_values(by='radius', ascending=False).head())\n",
    "    \n",
    "display(RT)\n",
    "display(button)\n",
    "button.on_click(on_button_clicked)"
   ]
  }
 ],
 "metadata": {
  "interpreter": {
   "hash": "922f0a21fe34289643d953d4812dee92a78b25f4d6dab0875cb28bd54e5d741c"
  },
  "kernelspec": {
   "display_name": "Python 3.10.2 ('playground')",
   "language": "python",
   "name": "python3"
  },
  "language_info": {
   "codemirror_mode": {
    "name": "ipython",
    "version": 3
   },
   "file_extension": ".py",
   "mimetype": "text/x-python",
   "name": "python",
   "nbconvert_exporter": "python",
   "pygments_lexer": "ipython3",
   "version": "3.10.2"
  }
 },
 "nbformat": 4,
 "nbformat_minor": 2
}
