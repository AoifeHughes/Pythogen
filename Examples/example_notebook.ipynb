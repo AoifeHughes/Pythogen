{
 "cells": [
  {
   "cell_type": "code",
   "execution_count": 1,
   "metadata": {},
   "outputs": [
    {
     "name": "stdout",
     "output_type": "stream",
     "text": [
      "Processing /Users/aoife/Library/Mobile Documents/com~apple~CloudDocs/PHD/Libraries/Pythogen\n",
      "  Preparing metadata (setup.py) ... \u001b[?25ldone\n",
      "\u001b[?25hRequirement already satisfied: numpy in /Users/aoife/miniforge3/envs/playground/lib/python3.10/site-packages (from Pythogen==0.6a0) (1.22.3)\n",
      "Requirement already satisfied: matplotlib in /Users/aoife/miniforge3/envs/playground/lib/python3.10/site-packages (from Pythogen==0.6a0) (3.5.1)\n",
      "Requirement already satisfied: scipy in /Users/aoife/miniforge3/envs/playground/lib/python3.10/site-packages (from Pythogen==0.6a0) (1.8.0)\n",
      "Requirement already satisfied: networkx in /Users/aoife/miniforge3/envs/playground/lib/python3.10/site-packages (from Pythogen==0.6a0) (2.6.3)\n",
      "Requirement already satisfied: pandas in /Users/aoife/miniforge3/envs/playground/lib/python3.10/site-packages (from Pythogen==0.6a0) (1.4.0)\n",
      "Requirement already satisfied: tqdm in /Users/aoife/miniforge3/envs/playground/lib/python3.10/site-packages (from Pythogen==0.6a0) (4.62.3)\n",
      "Requirement already satisfied: fonttools>=4.22.0 in /Users/aoife/miniforge3/envs/playground/lib/python3.10/site-packages (from matplotlib->Pythogen==0.6a0) (4.29.1)\n",
      "Requirement already satisfied: pillow>=6.2.0 in /Users/aoife/miniforge3/envs/playground/lib/python3.10/site-packages (from matplotlib->Pythogen==0.6a0) (9.0.1)\n",
      "Requirement already satisfied: kiwisolver>=1.0.1 in /Users/aoife/miniforge3/envs/playground/lib/python3.10/site-packages (from matplotlib->Pythogen==0.6a0) (1.3.2)\n",
      "Requirement already satisfied: cycler>=0.10 in /Users/aoife/miniforge3/envs/playground/lib/python3.10/site-packages (from matplotlib->Pythogen==0.6a0) (0.11.0)\n",
      "Requirement already satisfied: packaging>=20.0 in /Users/aoife/miniforge3/envs/playground/lib/python3.10/site-packages (from matplotlib->Pythogen==0.6a0) (21.3)\n",
      "Requirement already satisfied: python-dateutil>=2.7 in /Users/aoife/miniforge3/envs/playground/lib/python3.10/site-packages (from matplotlib->Pythogen==0.6a0) (2.8.2)\n",
      "Requirement already satisfied: pyparsing>=2.2.1 in /Users/aoife/miniforge3/envs/playground/lib/python3.10/site-packages (from matplotlib->Pythogen==0.6a0) (3.0.7)\n",
      "Requirement already satisfied: pytz>=2020.1 in /Users/aoife/miniforge3/envs/playground/lib/python3.10/site-packages (from pandas->Pythogen==0.6a0) (2021.3)\n",
      "Requirement already satisfied: six>=1.5 in /Users/aoife/miniforge3/envs/playground/lib/python3.10/site-packages (from python-dateutil>=2.7->matplotlib->Pythogen==0.6a0) (1.16.0)\n",
      "Building wheels for collected packages: Pythogen\n",
      "  Building wheel for Pythogen (setup.py) ... \u001b[?25ldone\n",
      "\u001b[?25h  Created wheel for Pythogen: filename=Pythogen-0.6a0-py3-none-any.whl size=9682 sha256=a389dea1f6d1aa73a9d682002709643e36830981c4c8d2ed4b900bea4e924b09\n",
      "  Stored in directory: /private/var/folders/m9/ry0lht_x4fz2fny1hvlxk2zc0000gn/T/pip-ephem-wheel-cache-m26r5lkn/wheels/b5/48/87/bed3669c0e313205bd622c19440b653293f80c03c2eb22c30f\n",
      "Successfully built Pythogen\n",
      "Installing collected packages: Pythogen\n",
      "  Attempting uninstall: Pythogen\n",
      "    Found existing installation: Pythogen 0.6a0\n",
      "    Uninstalling Pythogen-0.6a0:\n",
      "      Successfully uninstalled Pythogen-0.6a0\n",
      "Successfully installed Pythogen-0.6a0\n"
     ]
    }
   ],
   "source": [
    "!pip install ../ --upgrade"
   ]
  },
  {
   "cell_type": "code",
   "execution_count": 2,
   "metadata": {},
   "outputs": [
    {
     "name": "stdout",
     "output_type": "stream",
     "text": [
      "     x   y            neighbours num_neighbours distCentre     radius  \\\n",
      "136  5  11  [111, 135, 161, 137]              4          8  30.729167   \n",
      "137  5  12  [112, 136, 162, 138]              4          7      31.25   \n",
      "111  4  11   [86, 110, 136, 112]              4          9  30.729167   \n",
      "161  6  11  [136, 160, 186, 162]              4          7  30.729167   \n",
      "135  5  10  [110, 134, 160, 136]              4          9  30.208333   \n",
      "\n",
      "    radius_ep_original radius_ep  num_pd defenceSignal      Deff      shape  \n",
      "136              0.005     0.005  1000.0      0.121926  7.710558  rectangle  \n",
      "137              0.005     0.005  1000.0      0.077404  7.582991  rectangle  \n",
      "111              0.005     0.005  1000.0      0.077332  7.710558  rectangle  \n",
      "161              0.005     0.005  1000.0      0.077332  7.710558  rectangle  \n",
      "135              0.005     0.005  1000.0      0.074951   7.84249  rectangle  \n",
      "Took: 2.0091869831085205 s to run\n"
     ]
    }
   ],
   "source": [
    "import numpy as np\n",
    "from time import time \n",
    "from Pythogen import cells, model, signals\n",
    "\n",
    "tstart = time()\n",
    "\n",
    "meanCellRadius, meanPDRadius = 25, 5e-3\n",
    "\n",
    "cell_params = cells.Cells(meanCellRadius, meanPDRadius, cellSizeGradientPC=0.5)\n",
    "\n",
    "defSignal = signals.Signal(300, 0, 'defenceSignal')\n",
    "\n",
    "\n",
    "def init_func(signal, G, names):\n",
    "    idx = np.random.randint(G.number_of_nodes())\n",
    "    G.nodes(data=True)[idx]['defenceSignal'] = 1\n",
    "\n",
    "\n",
    "defSignal.add_onAdd_function(init_func)\n",
    "\n",
    "mdl = model.Model('rectangle', NCellsY=25, NCellsX=25)\n",
    "mdl.add_cell_features(cell_params)\n",
    "mdl.add_signal(defSignal)\n",
    "\n",
    "mdl.run(100)\n",
    "\n",
    "df = mdl.to_pd()\n",
    "print(df.sort_values(by='defenceSignal', ascending=False).head())\n",
    "\n",
    "print(f\"Took: {time()-tstart} s to run\")"
   ]
  },
  {
   "cell_type": "code",
   "execution_count": 3,
   "metadata": {},
   "outputs": [
    {
     "data": {
      "image/png": "[encoded data removed]",
      "text/plain": [
       "<Figure size 432x288 with 1 Axes>"
      ]
     },
     "metadata": {},
     "output_type": "display_data"
    }
   ],
   "source": [
    "from Pythogen.draw import plot_network\n",
    "\n",
    "plot_network(mdl, \"defenceSignal\")"
   ]
  },
  {
   "cell_type": "code",
   "execution_count": 4,
   "metadata": {},
   "outputs": [
    {
     "data": {
      "text/plain": [
       "0.9999999999999999"
      ]
     },
     "execution_count": 4,
     "metadata": {},
     "output_type": "execute_result"
    }
   ],
   "source": [
    "df['defenceSignal'].sum()"
   ]
  }
 ],
 "metadata": {
  "interpreter": {
   "hash": "922f0a21fe34289643d953d4812dee92a78b25f4d6dab0875cb28bd54e5d741c"
  },
  "kernelspec": {
   "display_name": "Python 3.10.2 ('playground')",
   "language": "python",
   "name": "python3"
  },
  "language_info": {
   "codemirror_mode": {
    "name": "ipython",
    "version": 3
   },
   "file_extension": ".py",
   "mimetype": "text/x-python",
   "name": "python",
   "nbconvert_exporter": "python",
   "pygments_lexer": "ipython3",
   "version": "3.10.2"
  },
  "orig_nbformat": 4
 },
 "nbformat": 4,
 "nbformat_minor": 2
}
