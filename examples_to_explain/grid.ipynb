{
 "cells": [
  {
   "cell_type": "code",
   "execution_count": 1,
   "metadata": {},
   "outputs": [
    {
     "data": {
      "image/png": "[encoded data removed]",
      "text/plain": [
       "<Figure size 432x432 with 1 Axes>"
      ]
     },
     "metadata": {},
     "output_type": "display_data"
    }
   ],
   "source": [
    "import networkx as nx\n",
    "from matplotlib import pyplot as plt\n",
    "\n",
    "G = nx.grid_2d_graph(3,3)\n",
    "\n",
    "plt.figure(figsize=(6,6))\n",
    "pos = {(x,y):(y,-x) for x,y in G.nodes()}\n",
    "nx.draw(G, pos=pos, \n",
    "        node_color='lightgreen', \n",
    "        with_labels=True,\n",
    "        node_size=600)"
   ]
  },
  {
   "cell_type": "code",
   "execution_count": 7,
   "metadata": {},
   "outputs": [
    {
     "data": {
      "text/plain": [
       "'\\\\begin{bmatrix}\\n  0 & 1 & 0 & 1 & 0 & 0 & 0 & 0 & 0\\\\\\\\\\n  1 & 0 & 1 & 0 & 1 & 0 & 0 & 0 & 0\\\\\\\\\\n  0 & 1 & 0 & 0 & 0 & 1 & 0 & 0 & 0\\\\\\\\\\n  1 & 0 & 0 & 0 & 1 & 0 & 1 & 0 & 0\\\\\\\\\\n  0 & 1 & 0 & 1 & 0 & 1 & 0 & 1 & 0\\\\\\\\\\n  0 & 0 & 1 & 0 & 1 & 0 & 0 & 0 & 1\\\\\\\\\\n  0 & 0 & 0 & 1 & 0 & 0 & 0 & 1 & 0\\\\\\\\\\n  0 & 0 & 0 & 0 & 1 & 0 & 1 & 0 & 1\\\\\\\\\\n  0 & 0 & 0 & 0 & 0 & 1 & 0 & 1 & 0\\\\\\\\\\n\\\\end{bmatrix}'"
      ]
     },
     "execution_count": 7,
     "metadata": {},
     "output_type": "execute_result"
    }
   ],
   "source": [
    "B=nx.adjacency_matrix(G)\n",
    "#B.todense()\n",
    "\n",
    "def bmatrix(a):\n",
    "    \"\"\"Returns a LaTeX bmatrix\n",
    "\n",
    "    :a: numpy array\n",
    "    :returns: LaTeX bmatrix as a string\n",
    "    \"\"\"\n",
    "    if len(a.shape) > 2:\n",
    "        raise ValueError('bmatrix can at most display two dimensions')\n",
    "    lines = str(a).replace('[', '').replace(']', '').splitlines()\n",
    "    rv = [r'\\begin{bmatrix}']\n",
    "    rv += ['  ' + ' & '.join(l.split()) + r'\\\\' for l in lines]\n",
    "    rv +=  [r'\\end{bmatrix}']\n",
    "    return '\\n'.join(rv)\n",
    "\n",
    "bmatrix(B.todense())"
   ]
  }
 ],
 "metadata": {
  "interpreter": {
   "hash": "31f2aee4e71d21fbe5cf8b01ff0e069b9275f58929596ceb00d14d90e3e16cd6"
  },
  "kernelspec": {
   "display_name": "Python 3.8.9 64-bit",
   "language": "python",
   "name": "python3"
  },
  "language_info": {
   "codemirror_mode": {
    "name": "ipython",
    "version": 3
   },
   "file_extension": ".py",
   "mimetype": "text/x-python",
   "name": "python",
   "nbconvert_exporter": "python",
   "pygments_lexer": "ipython3",
   "version": "3.10.2"
  },
  "orig_nbformat": 4
 },
 "nbformat": 4,
 "nbformat_minor": 2
}
